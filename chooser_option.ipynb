{
  "nbformat": 4,
  "nbformat_minor": 0,
  "metadata": {
    "colab": {
      "provenance": [],
      "authorship_tag": "ABX9TyMYQDkA1zE82Ff8kEe4hqd3",
      "include_colab_link": true
    },
    "kernelspec": {
      "name": "python3",
      "display_name": "Python 3"
    },
    "language_info": {
      "name": "python"
    }
  },
  "cells": [
    {
      "cell_type": "markdown",
      "metadata": {
        "id": "view-in-github",
        "colab_type": "text"
      },
      "source": [
        "<a href=\"https://colab.research.google.com/github/newmantic/chooser_option/blob/main/chooser_option.ipynb\" target=\"_parent\"><img src=\"https://colab.research.google.com/assets/colab-badge.svg\" alt=\"Open In Colab\"/></a>"
      ]
    },
    {
      "cell_type": "code",
      "execution_count": 1,
      "metadata": {
        "colab": {
          "base_uri": "https://localhost:8080/"
        },
        "id": "cuIgwjK7h9hK",
        "outputId": "72c66a61-f2e4-42e6-c6b9-e2863e1d63f5"
      },
      "outputs": [
        {
          "output_type": "stream",
          "name": "stdout",
          "text": [
            "Simulated Final Price: 107.64\n",
            "Payoff of the Chooser Option: 2.64\n"
          ]
        }
      ],
      "source": [
        "import numpy as np\n",
        "\n",
        "class ChooserOption:\n",
        "    def __init__(self, initial_price, strike_price, decision_time, maturity, risk_free_rate, volatility):\n",
        "        \"\"\"\n",
        "        Initializes the Chooser Option.\n",
        "\n",
        "        :param initial_price: The initial price of the underlying asset\n",
        "        :param strike_price: The strike price of the option\n",
        "        :param decision_time: The time (in years) at which the choice between call and put is made\n",
        "        :param maturity: The time (in years) until the option expires\n",
        "        :param risk_free_rate: The risk-free interest rate\n",
        "        :param volatility: The volatility of the underlying asset\n",
        "        \"\"\"\n",
        "        self.initial_price = initial_price\n",
        "        self.strike_price = strike_price\n",
        "        self.decision_time = decision_time\n",
        "        self.maturity = maturity\n",
        "        self.risk_free_rate = risk_free_rate\n",
        "        self.volatility = volatility\n",
        "\n",
        "    def calculate_payoff(self, final_price):\n",
        "        \"\"\"\n",
        "        Calculates the payoff of the Chooser Option based on the final price of the underlying asset.\n",
        "\n",
        "        :param final_price: The price of the underlying asset at maturity\n",
        "        :return: The payoff amount\n",
        "        \"\"\"\n",
        "        call_payoff = max(final_price - self.strike_price, 0)\n",
        "        put_payoff = max(self.strike_price - final_price, 0)\n",
        "        return max(call_payoff, put_payoff)\n",
        "\n",
        "    def simulate_final_price(self):\n",
        "        \"\"\"\n",
        "        Simulates the final price of the underlying asset at maturity using the Geometric Brownian Motion model.\n",
        "\n",
        "        :return: Simulated final price of the underlying asset at maturity\n",
        "        \"\"\"\n",
        "        dt = self.maturity\n",
        "        random_shock = np.random.normal(0, 1)\n",
        "        final_price = self.initial_price * np.exp(\n",
        "            (self.risk_free_rate - 0.5 * self.volatility ** 2) * dt + self.volatility * np.sqrt(dt) * random_shock\n",
        "        )\n",
        "        return final_price\n",
        "\n",
        "# Example usage\n",
        "if __name__ == \"__main__\":\n",
        "    # Parameters for the Chooser Option\n",
        "    initial_price = 100\n",
        "    strike_price = 105\n",
        "    decision_time = 0.5  # The decision is made at 0.5 years\n",
        "    maturity = 1.0  # The option matures in 1 year\n",
        "    risk_free_rate = 0.05  # 5% risk-free rate\n",
        "    volatility = 0.2  # 20% volatility\n",
        "\n",
        "    # Create a Chooser Option instance\n",
        "    chooser_option = ChooserOption(\n",
        "        initial_price=initial_price,\n",
        "        strike_price=strike_price,\n",
        "        decision_time=decision_time,\n",
        "        maturity=maturity,\n",
        "        risk_free_rate=risk_free_rate,\n",
        "        volatility=volatility\n",
        "    )\n",
        "\n",
        "    # Simulate the final price of the underlying asset at maturity\n",
        "    final_price = chooser_option.simulate_final_price()\n",
        "    print(f\"Simulated Final Price: {final_price:.2f}\")\n",
        "\n",
        "    # Calculate the payoff of the Chooser Option\n",
        "    payoff = chooser_option.calculate_payoff(final_price)\n",
        "    print(f\"Payoff of the Chooser Option: {payoff:.2f}\")"
      ]
    }
  ]
}